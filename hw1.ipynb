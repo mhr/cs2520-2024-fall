{
 "cells": [
  {
   "cell_type": "markdown",
   "metadata": {},
   "source": [
    "ADT Pattern in Python\n",
    "- https://github.com/sabrinahu5/program-synthesis/blob/main/interpreter/flashfill-interpreter/ff-interpreter.py"
   ]
  },
  {
   "cell_type": "code",
   "execution_count": 47,
   "metadata": {},
   "outputs": [],
   "source": [
    "from pprint import pprint\n",
    "from dataclasses import dataclass\n",
    "from typing import List, Tuple, Optional, Dict"
   ]
  },
  {
   "cell_type": "code",
   "execution_count": 48,
   "metadata": {},
   "outputs": [],
   "source": [
    "@dataclass(frozen=True)\n",
    "class LType:\n",
    "    pass\n",
    "\n",
    "@dataclass(frozen=True)\n",
    "class LBool(LType):\n",
    "    pass\n",
    "\n",
    "@dataclass(frozen=True)\n",
    "class LInt(LType):\n",
    "    pass\n",
    "\n",
    "@dataclass(frozen=True)\n",
    "class LArrow(LType):\n",
    "    param_type: LType\n",
    "    return_type: LType\n",
    "\n",
    "@dataclass(frozen=True)\n",
    "class LProduct(LType):\n",
    "    left: LType\n",
    "    right: LType\n",
    "\n",
    "@dataclass(frozen=True)\n",
    "class LSum(LType):\n",
    "    left: LType\n",
    "    right: LType\n",
    "\n",
    "@dataclass(frozen=True)\n",
    "class LTerm:\n",
    "    pass\n",
    "\n",
    "@dataclass(frozen=True)\n",
    "class LVar(LTerm):\n",
    "    name: str\n",
    "\n",
    "@dataclass(frozen=True)\n",
    "class LAbs(LTerm):\n",
    "    param: LVar\n",
    "    param_type: LType\n",
    "    body: LTerm\n",
    "\n",
    "@dataclass(frozen=True)\n",
    "class LApp(LTerm):\n",
    "    func: LTerm\n",
    "    arg: LTerm\n",
    "\n",
    "@dataclass(frozen=True)\n",
    "class LTrue(LTerm):\n",
    "    pass\n",
    "\n",
    "@dataclass(frozen=True)\n",
    "class LFalse(LTerm):\n",
    "    pass\n",
    "\n",
    "@dataclass(frozen=True)\n",
    "class LIf(LTerm):\n",
    "    condition: LTerm\n",
    "    then_branch: LTerm\n",
    "    else_branch: LTerm\n",
    "\n",
    "@dataclass(frozen=True)\n",
    "class LDefine(LTerm):\n",
    "    name: LVar\n",
    "    body: LTerm\n",
    "\n",
    "@dataclass(frozen=True)\n",
    "class LList(LType):\n",
    "    element_type: LType\n",
    "\n",
    "@dataclass(frozen=True)\n",
    "class LNil(LList):\n",
    "    pass\n",
    "\n",
    "@dataclass(frozen=True)\n",
    "class LCons(LList):\n",
    "    car: LTerm\n",
    "    cdr: LList  # The tail of the list is another list (recursive)\n",
    "\n",
    "@dataclass(frozen=True)\n",
    "class LNum(LTerm):\n",
    "    value: int\n",
    "\n",
    "@dataclass(frozen=True)\n",
    "class LAdd(LTerm):\n",
    "    left: LTerm\n",
    "    right: LTerm\n",
    "\n",
    "class ImmutableAssignDict(dict):\n",
    "    def __setitem__(self, key, value):\n",
    "        if key in self:\n",
    "            raise KeyError(f\"Cannot overwrite existing key: {key}\")\n",
    "        super().__setitem__(key, value)\n",
    "\n",
    "TypeEnv = ImmutableAssignDict[LVar, LType]\n",
    "EvalEnv = ImmutableAssignDict[LVar, LTerm]"
   ]
  },
  {
   "cell_type": "code",
   "execution_count": 49,
   "metadata": {},
   "outputs": [],
   "source": [
    "list_example = LCons(\n",
    "    LNum(1),\n",
    "    LCons(\n",
    "        LNum(2),\n",
    "        LCons(\n",
    "            LNum(3),\n",
    "            LNil()\n",
    "        )\n",
    "    )\n",
    ")"
   ]
  },
  {
   "cell_type": "code",
   "execution_count": 58,
   "metadata": {},
   "outputs": [
    {
     "ename": "RuntimeError",
     "evalue": "Unknown type case: LNil()",
     "output_type": "error",
     "traceback": [
      "\u001b[0;31m---------------------------------------------------------------------------\u001b[0m",
      "\u001b[0;31mRuntimeError\u001b[0m                              Traceback (most recent call last)",
      "Cell \u001b[0;32mIn[58], line 1\u001b[0m\n\u001b[0;32m----> 1\u001b[0m \u001b[43mtypecheck\u001b[49m\u001b[43m(\u001b[49m\u001b[43mgamma\u001b[49m\u001b[43m,\u001b[49m\u001b[43m \u001b[49m\u001b[43mlist_example\u001b[49m\u001b[43m)\u001b[49m\n",
      "Cell \u001b[0;32mIn[57], line 33\u001b[0m, in \u001b[0;36mtypecheck\u001b[0;34m(gamma_in, term)\u001b[0m\n\u001b[1;32m     31\u001b[0m \u001b[38;5;28;01melif\u001b[39;00m \u001b[38;5;28misinstance\u001b[39m(term, LCons):\n\u001b[1;32m     32\u001b[0m     car_type \u001b[38;5;241m=\u001b[39m typecheck(gamma, term\u001b[38;5;241m.\u001b[39mcar)\n\u001b[0;32m---> 33\u001b[0m     cdr_type \u001b[38;5;241m=\u001b[39m \u001b[43mtypecheck\u001b[49m\u001b[43m(\u001b[49m\u001b[43mgamma\u001b[49m\u001b[43m,\u001b[49m\u001b[43m \u001b[49m\u001b[43mterm\u001b[49m\u001b[38;5;241;43m.\u001b[39;49m\u001b[43mcdr\u001b[49m\u001b[43m)\u001b[49m\n\u001b[1;32m     34\u001b[0m     \u001b[38;5;28;01mif\u001b[39;00m \u001b[38;5;28misinstance\u001b[39m(cdr_type, LList) \u001b[38;5;129;01mand\u001b[39;00m cdr_type\u001b[38;5;241m.\u001b[39melement_type \u001b[38;5;241m==\u001b[39m car_type:\n\u001b[1;32m     35\u001b[0m         \u001b[38;5;28;01mreturn\u001b[39;00m LList(car_type)\n",
      "Cell \u001b[0;32mIn[57], line 33\u001b[0m, in \u001b[0;36mtypecheck\u001b[0;34m(gamma_in, term)\u001b[0m\n\u001b[1;32m     31\u001b[0m \u001b[38;5;28;01melif\u001b[39;00m \u001b[38;5;28misinstance\u001b[39m(term, LCons):\n\u001b[1;32m     32\u001b[0m     car_type \u001b[38;5;241m=\u001b[39m typecheck(gamma, term\u001b[38;5;241m.\u001b[39mcar)\n\u001b[0;32m---> 33\u001b[0m     cdr_type \u001b[38;5;241m=\u001b[39m \u001b[43mtypecheck\u001b[49m\u001b[43m(\u001b[49m\u001b[43mgamma\u001b[49m\u001b[43m,\u001b[49m\u001b[43m \u001b[49m\u001b[43mterm\u001b[49m\u001b[38;5;241;43m.\u001b[39;49m\u001b[43mcdr\u001b[49m\u001b[43m)\u001b[49m\n\u001b[1;32m     34\u001b[0m     \u001b[38;5;28;01mif\u001b[39;00m \u001b[38;5;28misinstance\u001b[39m(cdr_type, LList) \u001b[38;5;129;01mand\u001b[39;00m cdr_type\u001b[38;5;241m.\u001b[39melement_type \u001b[38;5;241m==\u001b[39m car_type:\n\u001b[1;32m     35\u001b[0m         \u001b[38;5;28;01mreturn\u001b[39;00m LList(car_type)\n",
      "Cell \u001b[0;32mIn[57], line 33\u001b[0m, in \u001b[0;36mtypecheck\u001b[0;34m(gamma_in, term)\u001b[0m\n\u001b[1;32m     31\u001b[0m \u001b[38;5;28;01melif\u001b[39;00m \u001b[38;5;28misinstance\u001b[39m(term, LCons):\n\u001b[1;32m     32\u001b[0m     car_type \u001b[38;5;241m=\u001b[39m typecheck(gamma, term\u001b[38;5;241m.\u001b[39mcar)\n\u001b[0;32m---> 33\u001b[0m     cdr_type \u001b[38;5;241m=\u001b[39m \u001b[43mtypecheck\u001b[49m\u001b[43m(\u001b[49m\u001b[43mgamma\u001b[49m\u001b[43m,\u001b[49m\u001b[43m \u001b[49m\u001b[43mterm\u001b[49m\u001b[38;5;241;43m.\u001b[39;49m\u001b[43mcdr\u001b[49m\u001b[43m)\u001b[49m\n\u001b[1;32m     34\u001b[0m     \u001b[38;5;28;01mif\u001b[39;00m \u001b[38;5;28misinstance\u001b[39m(cdr_type, LList) \u001b[38;5;129;01mand\u001b[39;00m cdr_type\u001b[38;5;241m.\u001b[39melement_type \u001b[38;5;241m==\u001b[39m car_type:\n\u001b[1;32m     35\u001b[0m         \u001b[38;5;28;01mreturn\u001b[39;00m LList(car_type)\n",
      "Cell \u001b[0;32mIn[57], line 39\u001b[0m, in \u001b[0;36mtypecheck\u001b[0;34m(gamma_in, term)\u001b[0m\n\u001b[1;32m     37\u001b[0m         \u001b[38;5;28;01mraise\u001b[39;00m \u001b[38;5;167;01mRuntimeError\u001b[39;00m(\u001b[38;5;124m\"\u001b[39m\u001b[38;5;124mType mismatch in cons cell\u001b[39m\u001b[38;5;124m\"\u001b[39m)\n\u001b[1;32m     38\u001b[0m \u001b[38;5;28;01melse\u001b[39;00m:\n\u001b[0;32m---> 39\u001b[0m     \u001b[38;5;28;01mraise\u001b[39;00m \u001b[38;5;167;01mRuntimeError\u001b[39;00m(\u001b[38;5;124mf\u001b[39m\u001b[38;5;124m\"\u001b[39m\u001b[38;5;124mUnknown type case: \u001b[39m\u001b[38;5;132;01m{\u001b[39;00mterm\u001b[38;5;132;01m}\u001b[39;00m\u001b[38;5;124m\"\u001b[39m)\n",
      "\u001b[0;31mRuntimeError\u001b[0m: Unknown type case: LNil()"
     ]
    }
   ],
   "source": [
    "typecheck(gamma, list_example)"
   ]
  },
  {
   "cell_type": "code",
   "execution_count": 57,
   "metadata": {},
   "outputs": [],
   "source": [
    "def typecheck(gamma_in: TypeEnv, term: LTerm) -> LType:\n",
    "    gamma = gamma_in.copy()\n",
    "    if isinstance(term, LVar):\n",
    "        if term in gamma:\n",
    "            return gamma[term]\n",
    "        else:\n",
    "            raise RuntimeError(f\"Unbound variable error: {term.name}\")\n",
    "    elif isinstance(term, LNil):\n",
    "        return LList()\n",
    "    elif isinstance(term, LNum):\n",
    "        return LInt()\n",
    "    elif isinstance(term, LTrue) or isinstance(term, LFalse):\n",
    "        return LBool()\n",
    "    elif isinstance(term, LAbs):\n",
    "        param_type = term.param_type\n",
    "        gamma[term.param] = param_type\n",
    "        return LArrow(param_type, typecheck(gamma, term.body))\n",
    "    elif isinstance(term, LApp):\n",
    "        func_type = typecheck(gamma, term.func) # arrow type\n",
    "        arg_type = typecheck(gamma, term.arg)\n",
    "        if func_type.param_type == arg_type:\n",
    "            return func_type.return_type\n",
    "        else:\n",
    "            raise RuntimeError(f\"Application type error: {term}\")\n",
    "    elif isinstance(term, LIf):\n",
    "        condition_type = typecheck(gamma, term.condition)\n",
    "        then_type = typecheck(gamma, term.then_branch)\n",
    "        else_type = typecheck(gamma, term.else_branch)\n",
    "        if isinstance(condition_type, LBool) and then_type == else_type:\n",
    "            return else_type\n",
    "        else:\n",
    "            raise RuntimeError(f\"Conditional type error: {term}\")\n",
    "    elif isinstance(term, LCons):\n",
    "        car_type = typecheck(gamma, term.car)\n",
    "        cdr_type = typecheck(gamma, term.cdr)\n",
    "        if isinstance(cdr_type, LList) and cdr_type.element_type == car_type:\n",
    "            return LList(car_type)\n",
    "        else:\n",
    "            raise RuntimeError(\"Type mismatch in cons cell\")\n",
    "    else:\n",
    "        raise RuntimeError(f\"Unknown type case: {term}\")\n",
    "\n",
    "def evaluate(env_in: EvalEnv, term: LTerm) -> LTerm:\n",
    "    env = env_in.copy()\n",
    "    if isinstance(term, LAbs) or isinstance(term, LTrue) or isinstance(term, LFalse):\n",
    "        # base case: abstraction or boolean, return that\n",
    "        return term\n",
    "    # elif isinstance(term, LDefine): # useful for Lisp, but this is STLC\n",
    "    #     env[term.param] = eval(env, term.body)\n",
    "    elif isinstance(term, LVar):\n",
    "        return env[term]\n",
    "    elif isinstance(term, LIf):\n",
    "        condition = evaluate(env, term.condition)\n",
    "        if isinstance(condition, LTrue):\n",
    "            return evaluate(env, term.then_branch)\n",
    "        elif isinstance(condition, LFalse):\n",
    "            return evaluate(env, term.else_branch)\n",
    "        else:\n",
    "            raise RuntimeError(\"Huh, the condition is supposed to only be true or false...\")\n",
    "    elif isinstance(term, LApp):\n",
    "        reduced_func = evaluate(env, term.func) # left app\n",
    "        reduced_arg = evaluate(env, term.arg) # right app\n",
    "        # beta-reduction substitution\n",
    "        env[reduced_func.param] = reduced_arg\n",
    "        return evaluate(env, reduced_func.body)"
   ]
  },
  {
   "cell_type": "code",
   "execution_count": 52,
   "metadata": {},
   "outputs": [],
   "source": [
    "# Constants\n",
    "TRUE = LTrue()\n",
    "FALSE = LFalse()\n",
    "\n",
    "# Example terms\n",
    "identity_bool = LAbs(LVar(\"x\"), LBool(), LVar(\"x\"))\n",
    "applied_identity = LApp(identity_bool, TRUE)\n",
    "\n",
    "complex_term_no_type_check = LIf(\n",
    "    LApp(LAbs(LVar(\"x\"), LBool(), LVar(\"x\")), TRUE),\n",
    "    LAbs(LVar(\"y\"), LBool(), LVar(\"y\")),\n",
    "    FALSE\n",
    ")\n",
    "\n",
    "complex_term = LIf(\n",
    "    LApp(LAbs(LVar(\"x\"), LBool(), LVar(\"x\")), TRUE),\n",
    "    LAbs(LVar(\"x\"), LBool(), LVar(\"x\")),\n",
    "    LAbs(LVar(\"y\"), LBool(), LVar(\"y\"))\n",
    ")"
   ]
  },
  {
   "cell_type": "code",
   "execution_count": 53,
   "metadata": {},
   "outputs": [
    {
     "name": "stdout",
     "output_type": "stream",
     "text": [
      "LIf(condition=LApp(func=LAbs(param=LVar(name='x'),\n",
      "                             param_type=LBool(),\n",
      "                             body=LVar(name='x')),\n",
      "                   arg=LTrue()),\n",
      "    then_branch=LAbs(param=LVar(name='x'),\n",
      "                     param_type=LBool(),\n",
      "                     body=LVar(name='x')),\n",
      "    else_branch=LAbs(param=LVar(name='y'),\n",
      "                     param_type=LBool(),\n",
      "                     body=LVar(name='y')))\n"
     ]
    }
   ],
   "source": [
    "pprint(complex_term)"
   ]
  },
  {
   "cell_type": "code",
   "execution_count": 54,
   "metadata": {},
   "outputs": [
    {
     "name": "stdout",
     "output_type": "stream",
     "text": [
      "LArrow(param_type=LBool(), return_type=LBool())\n",
      "LBool()\n",
      "LArrow(param_type=LBool(), return_type=LBool())\n",
      "LBool()\n"
     ]
    }
   ],
   "source": [
    "gamma: TypeEnv = TypeEnv()\n",
    "gamma[LVar(\"x\")] = LBool()\n",
    "basic_term = LVar(\"x\")\n",
    "a = LAbs(LVar(\"y\"), LBool(), LVar(\"x\"))\n",
    "b = LApp(a, TRUE)\n",
    "print(typecheck(gamma, complex_term))\n",
    "print(typecheck(gamma, basic_term))\n",
    "pprint(typecheck(gamma, a))\n",
    "pprint(typecheck(gamma, b))"
   ]
  },
  {
   "cell_type": "code",
   "execution_count": 55,
   "metadata": {},
   "outputs": [
    {
     "name": "stdout",
     "output_type": "stream",
     "text": [
      "LTrue()\n"
     ]
    }
   ],
   "source": [
    "env: EvalEnv = EvalEnv()\n",
    "x = LVar(\"x\")\n",
    "env[x] = TRUE\n",
    "complexer_term = LApp(LIf(\n",
    "    LApp(LAbs(LVar(\"x\"), LBool(), LVar(\"x\")), TRUE),\n",
    "    LAbs(LVar(\"x\"), LBool(), LVar(\"x\")),\n",
    "    LAbs(LVar(\"y\"), LBool(), LVar(\"y\"))\n",
    "), LVar(\"x\"))\n",
    "print(evaluate(env, complexer_term))"
   ]
  }
 ],
 "metadata": {
  "kernelspec": {
   "display_name": "kanren",
   "language": "python",
   "name": "python3"
  },
  "language_info": {
   "codemirror_mode": {
    "name": "ipython",
    "version": 3
   },
   "file_extension": ".py",
   "mimetype": "text/x-python",
   "name": "python",
   "nbconvert_exporter": "python",
   "pygments_lexer": "ipython3",
   "version": "3.10.8"
  }
 },
 "nbformat": 4,
 "nbformat_minor": 2
}
