{
 "cells": [
  {
   "cell_type": "markdown",
   "metadata": {},
   "source": [
    "ADT Pattern in Python\n",
    "- https://github.com/sabrinahu5/program-synthesis/blob/main/interpreter/flashfill-interpreter/ff-interpreter.py"
   ]
  },
  {
   "cell_type": "code",
   "execution_count": 1,
   "metadata": {},
   "outputs": [],
   "source": [
    "from pprint import pprint\n",
    "from dataclasses import dataclass\n",
    "from typing import List, Tuple, Optional, Dict"
   ]
  },
  {
   "cell_type": "code",
   "execution_count": 2,
   "metadata": {},
   "outputs": [],
   "source": [
    "class ImmutableAssignDict(dict):\n",
    "    def __setitem__(self, key, value):\n",
    "        if key in self:\n",
    "            raise KeyError(f\"Cannot overwrite existing key: {key}\")\n",
    "        super().__setitem__(key, value)\n",
    "\n",
    "@dataclass(frozen=True)\n",
    "class LType:\n",
    "    pass\n",
    "\n",
    "@dataclass(frozen=True)\n",
    "class LBool(LType):\n",
    "    pass\n",
    "\n",
    "@dataclass(frozen=True)\n",
    "class LInt(LType):\n",
    "    pass\n",
    "\n",
    "@dataclass(frozen=True)\n",
    "class LNilType(LType):\n",
    "    pass\n",
    "\n",
    "@dataclass(frozen=True)\n",
    "class LArrow(LType):\n",
    "    param_type: LType\n",
    "    return_type: LType\n",
    "\n",
    "@dataclass(frozen=True)\n",
    "class LProduct(LType):\n",
    "    left: LType\n",
    "    right: LType\n",
    "\n",
    "@dataclass(frozen=True)\n",
    "class LSum(LType):\n",
    "    left: LType\n",
    "    right: LType\n",
    "\n",
    "@dataclass(frozen=True)\n",
    "class LTerm:\n",
    "    pass\n",
    "\n",
    "@dataclass(frozen=True)\n",
    "class LBegin(LTerm):\n",
    "    terms: list[LTerm]\n",
    "\n",
    "@dataclass(frozen=True)\n",
    "class LVar(LTerm):\n",
    "    name: str\n",
    "\n",
    "@dataclass(frozen=True)\n",
    "class LAbs(LTerm):\n",
    "    param: LVar\n",
    "    param_type: LType\n",
    "    body: LTerm\n",
    "\n",
    "@dataclass(frozen=True)\n",
    "class LApp(LTerm):\n",
    "    func: LTerm\n",
    "    arg: LTerm\n",
    "\n",
    "@dataclass(frozen=True)\n",
    "class LClosure(LTerm):\n",
    "    param: LVar\n",
    "    param_type: LType\n",
    "    body: LTerm\n",
    "    env: ImmutableAssignDict[LVar, LTerm]\n",
    "\n",
    "@dataclass(frozen=True)\n",
    "class LTrue(LTerm):\n",
    "    pass\n",
    "\n",
    "@dataclass(frozen=True)\n",
    "class LFalse(LTerm):\n",
    "    pass\n",
    "\n",
    "@dataclass(frozen=True)\n",
    "class LIf(LTerm):\n",
    "    condition: LTerm\n",
    "    then_branch: LTerm\n",
    "    else_branch: LTerm\n",
    "\n",
    "@dataclass(frozen=True)\n",
    "class LDefine(LTerm):\n",
    "    name: LVar\n",
    "    body: LTerm\n",
    "\n",
    "@dataclass(frozen=True)\n",
    "class LList(LType):\n",
    "    element_type: LType\n",
    "\n",
    "@dataclass(frozen=True)\n",
    "class LNil(LTerm):\n",
    "    pass\n",
    "\n",
    "@dataclass(frozen=True)\n",
    "class LCons(LTerm):\n",
    "    car: LTerm\n",
    "    cdr: LTerm\n",
    "\n",
    "@dataclass(frozen=True)\n",
    "class LNum(LTerm):\n",
    "    value: int\n",
    "\n",
    "@dataclass(frozen=True)\n",
    "class LAdd(LTerm):\n",
    "    left: LTerm\n",
    "    right: LTerm\n",
    "\n",
    "@dataclass(frozen=True)\n",
    "class LCar(LTerm):\n",
    "    lst: LTerm\n",
    "\n",
    "@dataclass(frozen=True)\n",
    "class LCdr(LTerm):\n",
    "    lst: LTerm\n",
    "\n",
    "TypeEnv = ImmutableAssignDict[LVar, LType]\n",
    "EvalEnv = ImmutableAssignDict[LVar, LTerm]"
   ]
  },
  {
   "cell_type": "code",
   "execution_count": 27,
   "metadata": {},
   "outputs": [],
   "source": [
    "def typecheck(gamma_in: TypeEnv, term: LTerm) -> LType:\n",
    "    gamma = gamma_in.copy()\n",
    "    if isinstance(term, LVar):\n",
    "        if term in gamma:\n",
    "            return gamma[term]\n",
    "        else:\n",
    "            raise RuntimeError(f\"Unbound variable error: {term.name}\")\n",
    "    elif isinstance(term, LNil):\n",
    "        return LNilType()\n",
    "    elif isinstance(term, LNum):\n",
    "        return LInt()\n",
    "    elif isinstance(term, LTrue) or isinstance(term, LFalse):\n",
    "        return LBool()\n",
    "    elif isinstance(term, LAbs):\n",
    "        param_type = term.param_type\n",
    "        gamma[term.param] = param_type\n",
    "        return LArrow(param_type, typecheck(gamma, term.body))\n",
    "    elif isinstance(term, LApp):\n",
    "        func_type = typecheck(gamma, term.func)\n",
    "        arg_type = typecheck(gamma, term.arg)\n",
    "        if isinstance(func_type, LArrow) and func_type.param_type == arg_type:\n",
    "            return func_type.return_type\n",
    "        else:\n",
    "            raise RuntimeError(f\"Application type error: {term}\")\n",
    "    elif isinstance(term, LIf):\n",
    "        condition_type = typecheck(gamma, term.condition)\n",
    "        then_type = typecheck(gamma, term.then_branch)\n",
    "        else_type = typecheck(gamma, term.else_branch)\n",
    "        if isinstance(condition_type, LBool) and then_type == else_type:\n",
    "            return else_type\n",
    "        else:\n",
    "            raise RuntimeError(f\"Conditional type error: {term}\")\n",
    "    elif isinstance(term, LCons):\n",
    "        car_type = typecheck(gamma, term.car)\n",
    "        cdr_type = typecheck(gamma, term.cdr)\n",
    "        if isinstance(cdr_type, LNilType):\n",
    "            return LList(car_type)  # Infer the type of LNil from the car\n",
    "\n",
    "        if isinstance(cdr_type, LList) and cdr_type.element_type == car_type:\n",
    "            return LList(car_type)\n",
    "        else:\n",
    "            raise RuntimeError(\"Type mismatch in cons cell\")\n",
    "    elif isinstance(term, LDefine):\n",
    "        body_type = typecheck(gamma, term.body)\n",
    "        gamma[term.name] = body_type\n",
    "        return body_type\n",
    "    elif isinstance(term, LAdd):\n",
    "        left_type = typecheck(gamma, term.left)\n",
    "        right_type = typecheck(gamma, term.right)\n",
    "        if isinstance(left_type, LInt) and isinstance(right_type, LInt):\n",
    "            return LInt()\n",
    "        else:\n",
    "            raise RuntimeError(f\"Addition type error: {term}\")\n",
    "    elif isinstance(term, LCar):\n",
    "        lst_type = typecheck(gamma, term.lst)\n",
    "        if isinstance(lst_type, LList):\n",
    "            return lst_type.element_type\n",
    "        else:\n",
    "            raise RuntimeError(f\"Car applied to a non-list: {term}\")\n",
    "    \n",
    "    elif isinstance(term, LCdr):\n",
    "        lst_type = typecheck(gamma, term.lst)\n",
    "        if isinstance(lst_type, LList):\n",
    "            return LList(lst_type.element_type)\n",
    "        else:\n",
    "            raise RuntimeError(f\"Cdr applied to a non-list: {term}\")\n",
    "    elif isinstance(term, LBegin):\n",
    "        for t in term.terms[:-1]:\n",
    "            typecheck(gamma, t)\n",
    "        return typecheck(gamma, term.terms[-1])\n",
    "    else:\n",
    "        raise RuntimeError(f\"Unknown type case: {term}\")\n",
    "\n",
    "def evaluate(env_in: EvalEnv, term: LTerm) -> tuple[EvalEnv, LTerm]:\n",
    "    env = env_in.copy()  # Work on a copy of the environment\n",
    "    if isinstance(term, LAbs):\n",
    "        return env, LClosure(term.param, term.param_type, term.body, env)\n",
    "    elif isinstance(term, LClosure):\n",
    "        return env, term\n",
    "    elif isinstance(term, LVar):\n",
    "        if term in env:\n",
    "            return env, env[term]\n",
    "        else:\n",
    "            raise RuntimeError(f\"Unbound variable error: {term.name}\")\n",
    "    elif isinstance(term, LIf):\n",
    "        updated_env, condition = evaluate(env, term.condition)\n",
    "        if isinstance(condition, LTrue):\n",
    "            return evaluate(updated_env, term.then_branch)\n",
    "        elif isinstance(condition, LFalse):\n",
    "            return evaluate(updated_env, term.else_branch)\n",
    "        else:\n",
    "            raise RuntimeError(\"Condition is supposed to only be true or false\")\n",
    "    elif isinstance(term, LApp):\n",
    "        _, reduced_func = evaluate(env, term.func)\n",
    "        _, reduced_arg = evaluate(env, term.arg)\n",
    "        if not isinstance(reduced_func, LClosure):\n",
    "            raise RuntimeError(\"Attempting to apply a non-closure\")\n",
    "        closure_env = reduced_func.env.copy()       # Use the closure's captured environment\n",
    "        closure_env[reduced_func.param] = reduced_arg  # Bind the argument in the closure's environment\n",
    "        return evaluate(closure_env, reduced_func.body)\n",
    "    elif isinstance(term, LDefine):\n",
    "        updated_env, evaluated_body = evaluate(env, term.body)\n",
    "        updated_env[term.name] = evaluated_body\n",
    "        return updated_env, evaluated_body\n",
    "    elif isinstance(term, LBegin):\n",
    "        for subterm in term.terms[:-1]:\n",
    "            updated_env, _ = evaluate(env, subterm)\n",
    "            env = updated_env\n",
    "        return evaluate(env, term.terms[-1])\n",
    "    elif isinstance(term, LAdd):\n",
    "        _, left_val = evaluate(env, term.left)\n",
    "        _, right_val = evaluate(env, term.right)\n",
    "        if isinstance(left_val, LNum) and isinstance(right_val, LNum):\n",
    "            return env, LNum(left_val.value + right_val.value)\n",
    "        else:\n",
    "            raise RuntimeError(\"Runtime error in addition: non-numeric values\")\n",
    "    elif isinstance(term, LCons):\n",
    "        _, car_val = evaluate(env, term.car)\n",
    "        _, cdr_val = evaluate(env, term.cdr)\n",
    "        return env, LCons(car_val, cdr_val)\n",
    "    elif isinstance(term, LCar):\n",
    "        _, lst_val = evaluate(env, term.lst)\n",
    "        if isinstance(lst_val, LCons):\n",
    "            return env, lst_val.car\n",
    "        else:\n",
    "            raise RuntimeError(\"Car operation on non-cons cell\")\n",
    "    elif isinstance(term, LCdr):\n",
    "        _, lst_val = evaluate(env, term.lst)\n",
    "        if isinstance(lst_val, LCons):\n",
    "            return env, lst_val.cdr\n",
    "        else:\n",
    "            raise RuntimeError(\"Cdr operation on non-cons cell\")\n",
    "    elif isinstance(term, LNil) or isinstance(term, LNum) or isinstance(term, LTrue) or isinstance(term, LFalse):\n",
    "        return env, term\n",
    "    else:\n",
    "        raise RuntimeError(f\"Evaluation error: {term}\")"
   ]
  },
  {
   "cell_type": "code",
   "execution_count": 15,
   "metadata": {},
   "outputs": [],
   "source": [
    "# Constants\n",
    "TRUE = LTrue()\n",
    "FALSE = LFalse()\n",
    "\n",
    "# Example terms\n",
    "identity_bool = LAbs(LVar(\"x\"), LBool(), LVar(\"x\"))\n",
    "applied_identity = LApp(identity_bool, TRUE)\n",
    "\n",
    "complex_term_no_type_check = LIf(\n",
    "    LApp(LAbs(LVar(\"x\"), LBool(), LVar(\"x\")), TRUE),\n",
    "    LAbs(LVar(\"y\"), LBool(), LVar(\"y\")),\n",
    "    FALSE\n",
    ")\n",
    "\n",
    "complex_term = LIf(\n",
    "    LApp(LAbs(LVar(\"x\"), LBool(), LVar(\"x\")), TRUE),\n",
    "    LAbs(LVar(\"x\"), LBool(), LVar(\"x\")),\n",
    "    LAbs(LVar(\"y\"), LBool(), LVar(\"y\"))\n",
    ")"
   ]
  },
  {
   "cell_type": "code",
   "execution_count": 16,
   "metadata": {},
   "outputs": [
    {
     "name": "stdout",
     "output_type": "stream",
     "text": [
      "LIf(condition=LApp(func=LAbs(param=LVar(name='x'),\n",
      "                             param_type=LBool(),\n",
      "                             body=LVar(name='x')),\n",
      "                   arg=LTrue()),\n",
      "    then_branch=LAbs(param=LVar(name='x'),\n",
      "                     param_type=LBool(),\n",
      "                     body=LVar(name='x')),\n",
      "    else_branch=LAbs(param=LVar(name='y'),\n",
      "                     param_type=LBool(),\n",
      "                     body=LVar(name='y')))\n"
     ]
    }
   ],
   "source": [
    "pprint(complex_term)"
   ]
  },
  {
   "cell_type": "code",
   "execution_count": 17,
   "metadata": {},
   "outputs": [
    {
     "name": "stdout",
     "output_type": "stream",
     "text": [
      "LArrow(param_type=LBool(), return_type=LBool())\n",
      "LBool()\n",
      "LArrow(param_type=LBool(), return_type=LBool())\n",
      "LBool()\n"
     ]
    }
   ],
   "source": [
    "gamma: TypeEnv = TypeEnv()\n",
    "gamma[LVar(\"x\")] = LBool()\n",
    "basic_term = LVar(\"x\")\n",
    "a = LAbs(LVar(\"y\"), LBool(), LVar(\"x\"))\n",
    "b = LApp(a, TRUE)\n",
    "print(typecheck(gamma, complex_term))\n",
    "print(typecheck(gamma, basic_term))\n",
    "pprint(typecheck(gamma, a))\n",
    "pprint(typecheck(gamma, b))"
   ]
  },
  {
   "cell_type": "code",
   "execution_count": 18,
   "metadata": {},
   "outputs": [
    {
     "name": "stdout",
     "output_type": "stream",
     "text": [
      "({LVar(name='x'): LTrue()}, LTrue())\n"
     ]
    }
   ],
   "source": [
    "env: EvalEnv = EvalEnv()\n",
    "x = LVar(\"x\")\n",
    "env[x] = TRUE\n",
    "complexer_term = LApp(LIf(\n",
    "    LApp(LAbs(LVar(\"x\"), LBool(), LVar(\"x\")), TRUE),\n",
    "    LAbs(LVar(\"x\"), LBool(), LVar(\"x\")),\n",
    "    LAbs(LVar(\"y\"), LBool(), LVar(\"y\"))\n",
    "), LVar(\"x\"))\n",
    "print(evaluate(env, complexer_term))"
   ]
  },
  {
   "cell_type": "code",
   "execution_count": 19,
   "metadata": {},
   "outputs": [
    {
     "data": {
      "text/plain": [
       "LCons(car=LNum(value=1), cdr=LCons(car=LNum(value=2), cdr=LCons(car=LNum(value=3), cdr=LNil())))"
      ]
     },
     "execution_count": 19,
     "metadata": {},
     "output_type": "execute_result"
    }
   ],
   "source": [
    "list_example = LCons(\n",
    "    car=LNum(1),\n",
    "    cdr=LCons(\n",
    "        car=LNum(2),\n",
    "        cdr=LCons(\n",
    "            car=LNum(3),\n",
    "            cdr=LNil(),\n",
    "        ),\n",
    "    ),\n",
    ")\n",
    "list_example"
   ]
  },
  {
   "cell_type": "code",
   "execution_count": 20,
   "metadata": {},
   "outputs": [
    {
     "data": {
      "text/plain": [
       "(LList(element_type=LInt()),\n",
       " ({LVar(name='x'): LTrue()},\n",
       "  LCons(car=LNum(value=1), cdr=LCons(car=LNum(value=2), cdr=LCons(car=LNum(value=3), cdr=LNil())))))"
      ]
     },
     "execution_count": 20,
     "metadata": {},
     "output_type": "execute_result"
    }
   ],
   "source": [
    "typecheck(gamma, list_example), evaluate(env, list_example)"
   ]
  },
  {
   "cell_type": "code",
   "execution_count": 21,
   "metadata": {},
   "outputs": [
    {
     "name": "stdout",
     "output_type": "stream",
     "text": [
      "LArrow(param_type=LInt(), return_type=LInt())\n",
      "LNum(value=6)\n"
     ]
    }
   ],
   "source": [
    "func_define = LDefine(\n",
    "    name=LVar(\"increment\"),\n",
    "    body=LAbs(\n",
    "        param=LVar(\"x\"),\n",
    "        param_type=LInt(),\n",
    "        body=LAdd(LVar(\"x\"), LNum(1))\n",
    "    )\n",
    ")\n",
    "\n",
    "func_application = LApp(\n",
    "    func=LVar(\"increment\"),\n",
    "    arg=LNum(5)\n",
    ")\n",
    "\n",
    "begin_expr = LBegin([\n",
    "    func_define,\n",
    "    func_application\n",
    "])\n",
    "\n",
    "gamma = ImmutableAssignDict()\n",
    "env = ImmutableAssignDict()\n",
    "\n",
    "print(typecheck(gamma, func_define))  # Should return LArrow(LInt(), LInt())\n",
    "\n",
    "res_env, res_val = evaluate(env, begin_expr)  # Apply `increment` to 5\n",
    "\n",
    "print(res_val)  # Should output LNum(6)"
   ]
  },
  {
   "cell_type": "code",
   "execution_count": 22,
   "metadata": {},
   "outputs": [
    {
     "name": "stdout",
     "output_type": "stream",
     "text": [
      "LNum(value=15)\n"
     ]
    }
   ],
   "source": [
    "# Lambda that captures the value of x in its environment\n",
    "x = LVar(\"x\")\n",
    "# ((λx. (λy. x + y))(10))(5) => 10 + 5 = 15\n",
    "# Expected result: the closure captures x = 10, and adds 5 to it\n",
    "closure_example = LApp(\n",
    "    LAbs(x, LInt(), LApp(LAbs(LVar(\"y\"), LInt(), LAdd(x, LVar(\"y\"))), LNum(5))),\n",
    "    LNum(10)\n",
    ")\n",
    "\n",
    "res_env, res_val = evaluate(env, closure_example)\n",
    "print(res_val)  # Output should be LNum(15)"
   ]
  },
  {
   "cell_type": "code",
   "execution_count": 23,
   "metadata": {},
   "outputs": [
    {
     "name": "stdout",
     "output_type": "stream",
     "text": [
      "LNum(value=42)\n"
     ]
    }
   ],
   "source": [
    "# Define a list [1, 2, 3] using LCons and LNil\n",
    "list_var = LVar(\"myList\")\n",
    "define_list = LDefine(\n",
    "    list_var,\n",
    "    LCons(LNum(1), LCons(LNum(2), LCons(LNum(3), LNil())))\n",
    ")\n",
    "\n",
    "# Define a function that returns a fixed number, ignoring the list\n",
    "# Function: λx. 42\n",
    "simple_fn_var = LVar(\"simple_fn\")\n",
    "simple_fn = LDefine(\n",
    "    simple_fn_var,\n",
    "    LAbs(\n",
    "        LVar(\"lst\"),\n",
    "        LList(LInt()),  # The input type is a list of integers\n",
    "        LNum(42)  # The function always returns 42, ignoring its input\n",
    "    )\n",
    ")\n",
    "\n",
    "# Begin expression to define the list and then apply the function to it\n",
    "begin_expr = LBegin(\n",
    "    [\n",
    "        define_list,  # Define myList = [1, 2, 3]\n",
    "        simple_fn,  # Define the simple function\n",
    "        LApp(simple_fn_var, list_var)  # Apply simple_fn to myList\n",
    "    ]\n",
    ")\n",
    "\n",
    "# Evaluation and expected result: 42\n",
    "_, result = evaluate(ImmutableAssignDict(), begin_expr)\n",
    "print(result)  # Output should be LNum(42)"
   ]
  },
  {
   "cell_type": "code",
   "execution_count": 29,
   "metadata": {},
   "outputs": [
    {
     "name": "stdout",
     "output_type": "stream",
     "text": [
      "Head of the list: LNum(value=1)\n",
      "Tail of the list: LCons(car=LNum(value=2), cdr=LCons(car=LNum(value=3), cdr=LNil()))\n"
     ]
    }
   ],
   "source": [
    "# Define a list [1, 2, 3] using LCons and LNil\n",
    "list_var = LVar(\"myList\")\n",
    "define_list = LDefine(\n",
    "    list_var,\n",
    "    LCons(LNum(1), LCons(LNum(2), LCons(LNum(3), LNil())))\n",
    ")\n",
    "\n",
    "# Define the LCar operation to get the first element of the list\n",
    "car_expr = LCar(list_var)\n",
    "\n",
    "# Define the LCdr operation to get the tail of the list\n",
    "cdr_expr = LCdr(list_var)\n",
    "\n",
    "# Begin expression to define the list and retrieve the head and tail\n",
    "begin_car_expr = LBegin(\n",
    "    [\n",
    "        define_list,   # Define myList = [1, 2, 3]\n",
    "        car_expr      # Get the head of the list (should be 1)\n",
    "    ]\n",
    ")\n",
    "\n",
    "begin_cdr_expr = LBegin(\n",
    "    [\n",
    "        define_list,   # Define myList = [1, 2, 3]\n",
    "        cdr_expr       # Get the tail of the list (should be [2, 3])\n",
    "    ]\n",
    ")\n",
    "\n",
    "# Evaluate and check the result\n",
    "_, car_result = evaluate(ImmutableAssignDict(), begin_car_expr)\n",
    "print(\"Head of the list:\", car_result)  # Output should be LNum(1), the head of the list\n",
    "\n",
    "_, cdr_result = evaluate(ImmutableAssignDict(), begin_cdr_expr)\n",
    "print(\"Tail of the list:\", cdr_result)  # Output should be LCons(LNum(2), LCons(LNum(3), LNil())), the tail of the list"
   ]
  },
  {
   "cell_type": "code",
   "execution_count": 37,
   "metadata": {},
   "outputs": [
    {
     "data": {
      "text/plain": [
       "{LVar(name='myList'): LList(element_type=LInt())}"
      ]
     },
     "execution_count": 37,
     "metadata": {},
     "output_type": "execute_result"
    }
   ],
   "source": [
    "try:\n",
    "    gamma[list_var] = LList(LInt())\n",
    "except:\n",
    "    pass\n",
    "\n",
    "gamma"
   ]
  },
  {
   "cell_type": "code",
   "execution_count": 38,
   "metadata": {},
   "outputs": [
    {
     "data": {
      "text/plain": [
       "LList(element_type=LInt())"
      ]
     },
     "execution_count": 38,
     "metadata": {},
     "output_type": "execute_result"
    }
   ],
   "source": [
    "typecheck(gamma, begin_cdr_expr)"
   ]
  }
 ],
 "metadata": {
  "kernelspec": {
   "display_name": "kanren",
   "language": "python",
   "name": "python3"
  },
  "language_info": {
   "codemirror_mode": {
    "name": "ipython",
    "version": 3
   },
   "file_extension": ".py",
   "mimetype": "text/x-python",
   "name": "python",
   "nbconvert_exporter": "python",
   "pygments_lexer": "ipython3",
   "version": "3.10.8"
  }
 },
 "nbformat": 4,
 "nbformat_minor": 2
}
