{
 "cells": [
  {
   "cell_type": "markdown",
   "metadata": {},
   "source": [
    "ADT Pattern in Python\n",
    "- https://github.com/sabrinahu5/program-synthesis/blob/main/interpreter/flashfill-interpreter/ff-interpreter.py"
   ]
  },
  {
   "cell_type": "code",
   "execution_count": 6,
   "metadata": {},
   "outputs": [],
   "source": [
    "from pprint import pprint\n",
    "from dataclasses import dataclass\n",
    "from typing import List, Tuple, Optional, Dict"
   ]
  },
  {
   "cell_type": "code",
   "execution_count": 47,
   "metadata": {},
   "outputs": [],
   "source": [
    "@dataclass(frozen=True)\n",
    "class LType:\n",
    "    pass\n",
    "\n",
    "@dataclass(frozen=True)\n",
    "class LBool(LType):\n",
    "    pass\n",
    "\n",
    "@dataclass(frozen=True)\n",
    "class LInt(LType):\n",
    "    pass\n",
    "\n",
    "@dataclass(frozen=True)\n",
    "class LNilType(LType):\n",
    "    pass\n",
    "\n",
    "@dataclass(frozen=True)\n",
    "class LArrow(LType):\n",
    "    param_type: LType\n",
    "    return_type: LType\n",
    "\n",
    "@dataclass(frozen=True)\n",
    "class LProduct(LType):\n",
    "    left: LType\n",
    "    right: LType\n",
    "\n",
    "@dataclass(frozen=True)\n",
    "class LSum(LType):\n",
    "    left: LType\n",
    "    right: LType\n",
    "\n",
    "@dataclass(frozen=True)\n",
    "class LTerm:\n",
    "    pass\n",
    "\n",
    "@dataclass(frozen=True)\n",
    "class LBegin(LTerm):\n",
    "    terms: list[LTerm]\n",
    "\n",
    "@dataclass(frozen=True)\n",
    "class LVar(LTerm):\n",
    "    name: str\n",
    "\n",
    "@dataclass(frozen=True)\n",
    "class LAbs(LTerm):\n",
    "    param: LVar\n",
    "    param_type: LType\n",
    "    body: LTerm\n",
    "\n",
    "@dataclass(frozen=True)\n",
    "class LApp(LTerm):\n",
    "    func: LTerm\n",
    "    arg: LTerm\n",
    "\n",
    "@dataclass(frozen=True)\n",
    "class LTrue(LTerm):\n",
    "    pass\n",
    "\n",
    "@dataclass(frozen=True)\n",
    "class LFalse(LTerm):\n",
    "    pass\n",
    "\n",
    "@dataclass(frozen=True)\n",
    "class LIf(LTerm):\n",
    "    condition: LTerm\n",
    "    then_branch: LTerm\n",
    "    else_branch: LTerm\n",
    "\n",
    "@dataclass(frozen=True)\n",
    "class LDefine(LTerm):\n",
    "    name: LVar\n",
    "    body: LTerm\n",
    "\n",
    "@dataclass(frozen=True)\n",
    "class LList(LType):\n",
    "    element_type: LType\n",
    "\n",
    "@dataclass(frozen=True)\n",
    "class LNil(LTerm):\n",
    "    pass\n",
    "\n",
    "@dataclass(frozen=True)\n",
    "class LCons(LTerm):\n",
    "    car: LTerm\n",
    "    cdr: LTerm\n",
    "\n",
    "@dataclass(frozen=True)\n",
    "class LNum(LTerm):\n",
    "    value: int\n",
    "\n",
    "@dataclass(frozen=True)\n",
    "class LAdd(LTerm):\n",
    "    left: LTerm\n",
    "    right: LTerm\n",
    "\n",
    "class ImmutableAssignDict(dict):\n",
    "    def __setitem__(self, key, value):\n",
    "        if key in self:\n",
    "            raise KeyError(f\"Cannot overwrite existing key: {key}\")\n",
    "        super().__setitem__(key, value)\n",
    "\n",
    "TypeEnv = ImmutableAssignDict[LVar, LType]\n",
    "EvalEnv = ImmutableAssignDict[LVar, LTerm]"
   ]
  },
  {
   "cell_type": "code",
   "execution_count": 56,
   "metadata": {},
   "outputs": [],
   "source": [
    "def typecheck(gamma_in: TypeEnv, term: LTerm) -> LType:\n",
    "    gamma = gamma_in.copy()\n",
    "    if isinstance(term, LVar):\n",
    "        if term in gamma:\n",
    "            return gamma[term]\n",
    "        else:\n",
    "            raise RuntimeError(f\"Unbound variable error: {term.name}\")\n",
    "    elif isinstance(term, LNil):\n",
    "        return LNilType()\n",
    "    elif isinstance(term, LNum):\n",
    "        return LInt()\n",
    "    elif isinstance(term, LTrue) or isinstance(term, LFalse):\n",
    "        return LBool()\n",
    "    elif isinstance(term, LAbs):\n",
    "        param_type = term.param_type\n",
    "        gamma[term.param] = param_type\n",
    "        return LArrow(param_type, typecheck(gamma, term.body))\n",
    "    elif isinstance(term, LApp):\n",
    "        func_type = typecheck(gamma, term.func) # arrow type\n",
    "        arg_type = typecheck(gamma, term.arg)\n",
    "        if func_type.param_type == arg_type:\n",
    "            return func_type.return_type\n",
    "        else:\n",
    "            raise RuntimeError(f\"Application type error: {term}\")\n",
    "    elif isinstance(term, LIf):\n",
    "        condition_type = typecheck(gamma, term.condition)\n",
    "        then_type = typecheck(gamma, term.then_branch)\n",
    "        else_type = typecheck(gamma, term.else_branch)\n",
    "        if isinstance(condition_type, LBool) and then_type == else_type:\n",
    "            return else_type\n",
    "        else:\n",
    "            raise RuntimeError(f\"Conditional type error: {term}\")\n",
    "    elif isinstance(term, LCons):\n",
    "        car_type = typecheck(gamma, term.car)\n",
    "        cdr_type = typecheck(gamma, term.cdr)\n",
    "        # Infer the type of LNil from the car\n",
    "        if isinstance(cdr_type, LNilType):  # This is the case where the cdr is LNil\n",
    "            return LList(car_type)\n",
    "\n",
    "        if isinstance(cdr_type, LList) and cdr_type.element_type == car_type:\n",
    "            return LList(car_type)\n",
    "        else:\n",
    "            raise RuntimeError(\"Type mismatch in cons cell\")\n",
    "    elif isinstance(term, LDefine):\n",
    "        body_type = typecheck(gamma, term.body)\n",
    "        gamma[term.name] = body_type\n",
    "        return body_type\n",
    "    elif isinstance(term, LAdd):\n",
    "        left_type = typecheck(gamma, term.left)\n",
    "        right_type = typecheck(gamma, term.right)\n",
    "        if isinstance(left_type, LInt) and isinstance(right_type, LInt):\n",
    "            return LInt()\n",
    "        else:\n",
    "            raise RuntimeError(f\"Addition type error: {term}\")\n",
    "    else:\n",
    "        raise RuntimeError(f\"Unknown type case: {term}\")\n",
    "\n",
    "def evaluate(env_in: EvalEnv, term: LTerm) -> LTerm:\n",
    "    env = env_in.copy()\n",
    "    if isinstance(term, LAbs) or isinstance(term, LTrue) or isinstance(term, LFalse) or isinstance(term, LInt) or isinstance(term, LCons):\n",
    "        return term\n",
    "    elif isinstance(term, LVar):\n",
    "        return env[term]\n",
    "    elif isinstance(term, LIf):\n",
    "        condition = evaluate(env, term.condition)\n",
    "        if isinstance(condition, LTrue):\n",
    "            return evaluate(env, term.then_branch)\n",
    "        elif isinstance(condition, LFalse):\n",
    "            return evaluate(env, term.else_branch)\n",
    "        else:\n",
    "            raise RuntimeError(\"Huh, the condition is supposed to only be true or false...\")\n",
    "    elif isinstance(term, LApp):\n",
    "        reduced_func = evaluate(env, term.func) # left app\n",
    "        reduced_arg = evaluate(env, term.arg) # right app\n",
    "        # beta-reduction substitution\n",
    "        closure_env = reduced_func.env.copy()\n",
    "        closure_env[reduced_func.param] = reduced_arg\n",
    "        return evaluate(closure_env, reduced_func.body)\n",
    "    elif isinstance(term, LDefine):\n",
    "        evaluated_body = evaluate(env, term.body)\n",
    "        env[term.name] = evaluated_body\n",
    "        return evaluated_body\n",
    "    elif isinstance(term, LAdd):\n",
    "        left_val = evaluate(env, term.left)\n",
    "        right_val = evaluate(env, term.right)\n",
    "        if isinstance(left_val, LNum) and isinstance(right_val, LNum):\n",
    "            return LNum(left_val.value + right_val.value)\n",
    "        else:\n",
    "            raise RuntimeError(\"Runtime error in addition: non-numeric values\")\n",
    "    elif isinstance(term, LBegin):\n",
    "        for subterm in term.terms[:-1]:\n",
    "            env = evaluate(env, subterm)\n",
    "        return evaluate(env, term.terms[-1])\n",
    "    else:\n",
    "        raise RuntimeError(f\"Evaluation error: {term}\")"
   ]
  },
  {
   "cell_type": "code",
   "execution_count": 51,
   "metadata": {},
   "outputs": [],
   "source": [
    "# Constants\n",
    "TRUE = LTrue()\n",
    "FALSE = LFalse()\n",
    "\n",
    "# Example terms\n",
    "identity_bool = LAbs(LVar(\"x\"), LBool(), LVar(\"x\"))\n",
    "applied_identity = LApp(identity_bool, TRUE)\n",
    "\n",
    "complex_term_no_type_check = LIf(\n",
    "    LApp(LAbs(LVar(\"x\"), LBool(), LVar(\"x\")), TRUE),\n",
    "    LAbs(LVar(\"y\"), LBool(), LVar(\"y\")),\n",
    "    FALSE\n",
    ")\n",
    "\n",
    "complex_term = LIf(\n",
    "    LApp(LAbs(LVar(\"x\"), LBool(), LVar(\"x\")), TRUE),\n",
    "    LAbs(LVar(\"x\"), LBool(), LVar(\"x\")),\n",
    "    LAbs(LVar(\"y\"), LBool(), LVar(\"y\"))\n",
    ")"
   ]
  },
  {
   "cell_type": "code",
   "execution_count": 53,
   "metadata": {},
   "outputs": [
    {
     "name": "stdout",
     "output_type": "stream",
     "text": [
      "LIf(condition=LApp(func=LAbs(param=LVar(name='x'),\n",
      "                             param_type=LBool(),\n",
      "                             body=LVar(name='x')),\n",
      "                   arg=LTrue()),\n",
      "    then_branch=LAbs(param=LVar(name='x'),\n",
      "                     param_type=LBool(),\n",
      "                     body=LVar(name='x')),\n",
      "    else_branch=LAbs(param=LVar(name='y'),\n",
      "                     param_type=LBool(),\n",
      "                     body=LVar(name='y')))\n"
     ]
    }
   ],
   "source": [
    "pprint(complex_term)"
   ]
  },
  {
   "cell_type": "code",
   "execution_count": 54,
   "metadata": {},
   "outputs": [
    {
     "name": "stdout",
     "output_type": "stream",
     "text": [
      "LArrow(param_type=LBool(), return_type=LBool())\n",
      "LBool()\n",
      "LArrow(param_type=LBool(), return_type=LBool())\n",
      "LBool()\n"
     ]
    }
   ],
   "source": [
    "gamma: TypeEnv = TypeEnv()\n",
    "gamma[LVar(\"x\")] = LBool()\n",
    "basic_term = LVar(\"x\")\n",
    "a = LAbs(LVar(\"y\"), LBool(), LVar(\"x\"))\n",
    "b = LApp(a, TRUE)\n",
    "print(typecheck(gamma, complex_term))\n",
    "print(typecheck(gamma, basic_term))\n",
    "pprint(typecheck(gamma, a))\n",
    "pprint(typecheck(gamma, b))"
   ]
  },
  {
   "cell_type": "code",
   "execution_count": 55,
   "metadata": {},
   "outputs": [
    {
     "ename": "AttributeError",
     "evalue": "'LAbs' object has no attribute 'env'",
     "output_type": "error",
     "traceback": [
      "\u001b[0;31m---------------------------------------------------------------------------\u001b[0m",
      "\u001b[0;31mAttributeError\u001b[0m                            Traceback (most recent call last)",
      "Cell \u001b[0;32mIn[55], line 9\u001b[0m\n\u001b[1;32m      3\u001b[0m env[x] \u001b[38;5;241m=\u001b[39m TRUE\n\u001b[1;32m      4\u001b[0m complexer_term \u001b[38;5;241m=\u001b[39m LApp(LIf(\n\u001b[1;32m      5\u001b[0m     LApp(LAbs(LVar(\u001b[38;5;124m\"\u001b[39m\u001b[38;5;124mx\u001b[39m\u001b[38;5;124m\"\u001b[39m), LBool(), LVar(\u001b[38;5;124m\"\u001b[39m\u001b[38;5;124mx\u001b[39m\u001b[38;5;124m\"\u001b[39m)), TRUE),\n\u001b[1;32m      6\u001b[0m     LAbs(LVar(\u001b[38;5;124m\"\u001b[39m\u001b[38;5;124mx\u001b[39m\u001b[38;5;124m\"\u001b[39m), LBool(), LVar(\u001b[38;5;124m\"\u001b[39m\u001b[38;5;124mx\u001b[39m\u001b[38;5;124m\"\u001b[39m)),\n\u001b[1;32m      7\u001b[0m     LAbs(LVar(\u001b[38;5;124m\"\u001b[39m\u001b[38;5;124my\u001b[39m\u001b[38;5;124m\"\u001b[39m), LBool(), LVar(\u001b[38;5;124m\"\u001b[39m\u001b[38;5;124my\u001b[39m\u001b[38;5;124m\"\u001b[39m))\n\u001b[1;32m      8\u001b[0m ), LVar(\u001b[38;5;124m\"\u001b[39m\u001b[38;5;124mx\u001b[39m\u001b[38;5;124m\"\u001b[39m))\n\u001b[0;32m----> 9\u001b[0m \u001b[38;5;28mprint\u001b[39m(\u001b[43mevaluate\u001b[49m\u001b[43m(\u001b[49m\u001b[43menv\u001b[49m\u001b[43m,\u001b[49m\u001b[43m \u001b[49m\u001b[43mcomplexer_term\u001b[49m\u001b[43m)\u001b[49m)\n",
      "Cell \u001b[0;32mIn[50], line 73\u001b[0m, in \u001b[0;36mevaluate\u001b[0;34m(env_in, term)\u001b[0m\n\u001b[1;32m     71\u001b[0m         \u001b[38;5;28;01mraise\u001b[39;00m \u001b[38;5;167;01mRuntimeError\u001b[39;00m(\u001b[38;5;124m\"\u001b[39m\u001b[38;5;124mHuh, the condition is supposed to only be true or false...\u001b[39m\u001b[38;5;124m\"\u001b[39m)\n\u001b[1;32m     72\u001b[0m \u001b[38;5;28;01melif\u001b[39;00m \u001b[38;5;28misinstance\u001b[39m(term, LApp):\n\u001b[0;32m---> 73\u001b[0m     reduced_func \u001b[38;5;241m=\u001b[39m \u001b[43mevaluate\u001b[49m\u001b[43m(\u001b[49m\u001b[43menv\u001b[49m\u001b[43m,\u001b[49m\u001b[43m \u001b[49m\u001b[43mterm\u001b[49m\u001b[38;5;241;43m.\u001b[39;49m\u001b[43mfunc\u001b[49m\u001b[43m)\u001b[49m \u001b[38;5;66;03m# left app\u001b[39;00m\n\u001b[1;32m     74\u001b[0m     reduced_arg \u001b[38;5;241m=\u001b[39m evaluate(env, term\u001b[38;5;241m.\u001b[39marg) \u001b[38;5;66;03m# right app\u001b[39;00m\n\u001b[1;32m     75\u001b[0m     \u001b[38;5;66;03m# beta-reduction substitution\u001b[39;00m\n",
      "Cell \u001b[0;32mIn[50], line 65\u001b[0m, in \u001b[0;36mevaluate\u001b[0;34m(env_in, term)\u001b[0m\n\u001b[1;32m     63\u001b[0m     \u001b[38;5;28;01mreturn\u001b[39;00m env[term]\n\u001b[1;32m     64\u001b[0m \u001b[38;5;28;01melif\u001b[39;00m \u001b[38;5;28misinstance\u001b[39m(term, LIf):\n\u001b[0;32m---> 65\u001b[0m     condition \u001b[38;5;241m=\u001b[39m \u001b[43mevaluate\u001b[49m\u001b[43m(\u001b[49m\u001b[43menv\u001b[49m\u001b[43m,\u001b[49m\u001b[43m \u001b[49m\u001b[43mterm\u001b[49m\u001b[38;5;241;43m.\u001b[39;49m\u001b[43mcondition\u001b[49m\u001b[43m)\u001b[49m\n\u001b[1;32m     66\u001b[0m     \u001b[38;5;28;01mif\u001b[39;00m \u001b[38;5;28misinstance\u001b[39m(condition, LTrue):\n\u001b[1;32m     67\u001b[0m         \u001b[38;5;28;01mreturn\u001b[39;00m evaluate(env, term\u001b[38;5;241m.\u001b[39mthen_branch)\n",
      "Cell \u001b[0;32mIn[50], line 76\u001b[0m, in \u001b[0;36mevaluate\u001b[0;34m(env_in, term)\u001b[0m\n\u001b[1;32m     74\u001b[0m reduced_arg \u001b[38;5;241m=\u001b[39m evaluate(env, term\u001b[38;5;241m.\u001b[39marg) \u001b[38;5;66;03m# right app\u001b[39;00m\n\u001b[1;32m     75\u001b[0m \u001b[38;5;66;03m# beta-reduction substitution\u001b[39;00m\n\u001b[0;32m---> 76\u001b[0m closure_env \u001b[38;5;241m=\u001b[39m \u001b[43mreduced_func\u001b[49m\u001b[38;5;241;43m.\u001b[39;49m\u001b[43menv\u001b[49m\u001b[38;5;241m.\u001b[39mcopy()\n\u001b[1;32m     77\u001b[0m closure_env[reduced_func\u001b[38;5;241m.\u001b[39mparam] \u001b[38;5;241m=\u001b[39m reduced_arg\n\u001b[1;32m     78\u001b[0m \u001b[38;5;28;01mreturn\u001b[39;00m evaluate(closure_env, reduced_func\u001b[38;5;241m.\u001b[39mbody)\n",
      "\u001b[0;31mAttributeError\u001b[0m: 'LAbs' object has no attribute 'env'"
     ]
    }
   ],
   "source": [
    "env: EvalEnv = EvalEnv()\n",
    "x = LVar(\"x\")\n",
    "env[x] = TRUE\n",
    "complexer_term = LApp(LIf(\n",
    "    LApp(LAbs(LVar(\"x\"), LBool(), LVar(\"x\")), TRUE),\n",
    "    LAbs(LVar(\"x\"), LBool(), LVar(\"x\")),\n",
    "    LAbs(LVar(\"y\"), LBool(), LVar(\"y\"))\n",
    "), LVar(\"x\"))\n",
    "print(evaluate(env, complexer_term))"
   ]
  },
  {
   "cell_type": "code",
   "execution_count": 44,
   "metadata": {},
   "outputs": [
    {
     "data": {
      "text/plain": [
       "LCons(car=LNum(value=1), cdr=LCons(car=LNum(value=2), cdr=LCons(car=LNum(value=3), cdr=LNil())))"
      ]
     },
     "execution_count": 44,
     "metadata": {},
     "output_type": "execute_result"
    }
   ],
   "source": [
    "list_example = LCons(\n",
    "    car=LNum(1),\n",
    "    cdr=LCons(\n",
    "        car=LNum(2),\n",
    "        cdr=LCons(\n",
    "            car=LNum(3),\n",
    "            cdr=LNil(),\n",
    "        ),\n",
    "    ),\n",
    ")\n",
    "list_example"
   ]
  },
  {
   "cell_type": "code",
   "execution_count": 45,
   "metadata": {},
   "outputs": [
    {
     "data": {
      "text/plain": [
       "(LList(element_type=LInt()),\n",
       " LCons(car=LNum(value=1), cdr=LCons(car=LNum(value=2), cdr=LCons(car=LNum(value=3), cdr=LNil()))))"
      ]
     },
     "execution_count": 45,
     "metadata": {},
     "output_type": "execute_result"
    }
   ],
   "source": [
    "typecheck(gamma, list_example), evaluate(env, list_example)"
   ]
  },
  {
   "cell_type": "code",
   "execution_count": 46,
   "metadata": {},
   "outputs": [
    {
     "name": "stdout",
     "output_type": "stream",
     "text": [
      "LArrow(param_type=LInt(), return_type=LInt())\n"
     ]
    },
    {
     "ename": "KeyError",
     "evalue": "LVar(name='increment')",
     "output_type": "error",
     "traceback": [
      "\u001b[0;31m---------------------------------------------------------------------------\u001b[0m",
      "\u001b[0;31mKeyError\u001b[0m                                  Traceback (most recent call last)",
      "Cell \u001b[0;32mIn[46], line 25\u001b[0m\n\u001b[1;32m     23\u001b[0m \u001b[38;5;66;03m# Evaluate the function definition and application\u001b[39;00m\n\u001b[1;32m     24\u001b[0m evaluate(env, func_define)            \u001b[38;5;66;03m# This will store `increment` in the environment\u001b[39;00m\n\u001b[0;32m---> 25\u001b[0m result \u001b[38;5;241m=\u001b[39m \u001b[43mevaluate\u001b[49m\u001b[43m(\u001b[49m\u001b[43menv\u001b[49m\u001b[43m,\u001b[49m\u001b[43m \u001b[49m\u001b[43mfunc_application\u001b[49m\u001b[43m)\u001b[49m  \u001b[38;5;66;03m# Apply `increment` to 5\u001b[39;00m\n\u001b[1;32m     27\u001b[0m \u001b[38;5;28mprint\u001b[39m(result)\n",
      "Cell \u001b[0;32mIn[39], line 73\u001b[0m, in \u001b[0;36mevaluate\u001b[0;34m(env_in, term)\u001b[0m\n\u001b[1;32m     71\u001b[0m         \u001b[38;5;28;01mraise\u001b[39;00m \u001b[38;5;167;01mRuntimeError\u001b[39;00m(\u001b[38;5;124m\"\u001b[39m\u001b[38;5;124mHuh, the condition is supposed to only be true or false...\u001b[39m\u001b[38;5;124m\"\u001b[39m)\n\u001b[1;32m     72\u001b[0m \u001b[38;5;28;01melif\u001b[39;00m \u001b[38;5;28misinstance\u001b[39m(term, LApp):\n\u001b[0;32m---> 73\u001b[0m     reduced_func \u001b[38;5;241m=\u001b[39m \u001b[43mevaluate\u001b[49m\u001b[43m(\u001b[49m\u001b[43menv\u001b[49m\u001b[43m,\u001b[49m\u001b[43m \u001b[49m\u001b[43mterm\u001b[49m\u001b[38;5;241;43m.\u001b[39;49m\u001b[43mfunc\u001b[49m\u001b[43m)\u001b[49m \u001b[38;5;66;03m# left app\u001b[39;00m\n\u001b[1;32m     74\u001b[0m     reduced_arg \u001b[38;5;241m=\u001b[39m evaluate(env, term\u001b[38;5;241m.\u001b[39marg) \u001b[38;5;66;03m# right app\u001b[39;00m\n\u001b[1;32m     75\u001b[0m     \u001b[38;5;66;03m# beta-reduction substitution\u001b[39;00m\n",
      "Cell \u001b[0;32mIn[39], line 63\u001b[0m, in \u001b[0;36mevaluate\u001b[0;34m(env_in, term)\u001b[0m\n\u001b[1;32m     61\u001b[0m     \u001b[38;5;28;01mreturn\u001b[39;00m term\n\u001b[1;32m     62\u001b[0m \u001b[38;5;28;01melif\u001b[39;00m \u001b[38;5;28misinstance\u001b[39m(term, LVar):\n\u001b[0;32m---> 63\u001b[0m     \u001b[38;5;28;01mreturn\u001b[39;00m \u001b[43menv\u001b[49m\u001b[43m[\u001b[49m\u001b[43mterm\u001b[49m\u001b[43m]\u001b[49m\n\u001b[1;32m     64\u001b[0m \u001b[38;5;28;01melif\u001b[39;00m \u001b[38;5;28misinstance\u001b[39m(term, LIf):\n\u001b[1;32m     65\u001b[0m     condition \u001b[38;5;241m=\u001b[39m evaluate(env, term\u001b[38;5;241m.\u001b[39mcondition)\n",
      "\u001b[0;31mKeyError\u001b[0m: LVar(name='increment')"
     ]
    }
   ],
   "source": [
    "func_define = LDefine(\n",
    "    name=LVar(\"increment\"),\n",
    "    body=LAbs(\n",
    "        param=LVar(\"x\"),\n",
    "        param_type=LInt(),\n",
    "        body=LAdd(LVar(\"x\"), LNum(1))\n",
    "    )\n",
    ")\n",
    "\n",
    "# Apply the function to an argument\n",
    "func_application = LApp(\n",
    "    func=LVar(\"increment\"),\n",
    "    arg=LNum(5)\n",
    ")\n",
    "\n",
    "# Type environment and evaluation environment\n",
    "gamma = ImmutableAssignDict()\n",
    "env = ImmutableAssignDict()\n",
    "\n",
    "# Typecheck the function definition\n",
    "print(typecheck(gamma, func_define))  # Should return LArrow(LInt(), LInt())\n",
    "\n",
    "# Evaluate the function definition and application\n",
    "evaluate(env, func_define)            # This will store `increment` in the environment\n",
    "result = evaluate(env, func_application)  # Apply `increment` to 5\n",
    "\n",
    "print(result)  # Should output LNum(6)"
   ]
  }
 ],
 "metadata": {
  "kernelspec": {
   "display_name": "kanren",
   "language": "python",
   "name": "python3"
  },
  "language_info": {
   "codemirror_mode": {
    "name": "ipython",
    "version": 3
   },
   "file_extension": ".py",
   "mimetype": "text/x-python",
   "name": "python",
   "nbconvert_exporter": "python",
   "pygments_lexer": "ipython3",
   "version": "3.10.8"
  }
 },
 "nbformat": 4,
 "nbformat_minor": 2
}
